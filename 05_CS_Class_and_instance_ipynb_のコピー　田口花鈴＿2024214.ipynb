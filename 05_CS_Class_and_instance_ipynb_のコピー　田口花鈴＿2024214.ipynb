{
  "nbformat": 4,
  "nbformat_minor": 0,
  "metadata": {
    "colab": {
      "provenance": [],
      "include_colab_link": true
    },
    "kernelspec": {
      "name": "python3",
      "display_name": "Python 3"
    },
    "language_info": {
      "name": "python"
    }
  },
  "cells": [
    {
      "cell_type": "markdown",
      "metadata": {
        "id": "view-in-github",
        "colab_type": "text"
      },
      "source": [
        "<a href=\"https://colab.research.google.com/github/taguchikarin/karin/blob/main/05_CS_Class_and_instance_ipynb_%E3%81%AE%E3%82%B3%E3%83%94%E3%83%BC%E3%80%80%E7%94%B0%E5%8F%A3%E8%8A%B1%E9%88%B4%EF%BC%BF2024214.ipynb\" target=\"_parent\"><img src=\"https://colab.research.google.com/assets/colab-badge.svg\" alt=\"Open In Colab\"/></a>"
      ]
    },
    {
      "cell_type": "code",
      "execution_count": 1,
      "metadata": {
        "id": "aG9gRPCFiX8I",
        "colab": {
          "base_uri": "https://localhost:8080/"
        },
        "outputId": "f105eea8-63d1-4ccd-b568-a8c38bfc57c2"
      },
      "outputs": [
        {
          "output_type": "stream",
          "name": "stdout",
          "text": [
            "インスタンス1-:\n",
            "2024-10-28 16:16:13.302741\n",
            "１秒待つよ\n",
            "インスタンス2-:\n",
            "2024-10-28 16:16:14.304329\n"
          ]
        }
      ],
      "source": [
        "# @title 1. datatimeクラスとそのインスタンス\n",
        "\n",
        "# datetimeモジュールからdatetimeクラスをインポート\n",
        "from datetime import datetime\n",
        "import time #これはsleepを使うため\n",
        "\n",
        "# datetimeクラスのクラスメソッドnow()（現在時刻でdatetimeクラスのインスタンスを作る）\n",
        "now_1 = datetime.now()\n",
        "\n",
        "print(\"インスタンス1-:\")\n",
        "print(now_1)\n",
        "\n",
        "\n",
        "# プログラムの実行を1秒止める\n",
        "time.sleep(1)\n",
        "print(\"１秒待つよ\")\n",
        "\n",
        "\n",
        "# datetimeクラスのクラスメソッドnow()で別のインスタンスを作る\n",
        "now_2 = datetime.now()\n",
        "\n",
        "print(\"インスタンス2-:\")\n",
        "print(now_2)\n",
        "\n"
      ]
    },
    {
      "cell_type": "markdown",
      "source": [
        " # 2. datatimeクラスのインスタンスはそれぞれ別個のデータを持つ\n",
        "\n",
        " - どんなデータ属性を持つかはクラスで決められている\n",
        " - 公式ドキュメント https://docs.python.org/ja/3/library/datetime.html#datetime.datetime\n"
      ],
      "metadata": {
        "id": "wT192aB79QUT"
      }
    },
    {
      "cell_type": "code",
      "source": [
        "# @title 2-1datetimeクラスのそれぞれのインスタンスがsecondというデータをそれぞれ持っている例\n",
        "\n",
        "print(\"インスタンス1のデータ属性 secondと\")\n",
        "print(now_1.second)\n",
        "\n",
        "print(\"インスタンス2のデータ属性 secondは別の値を返す\")\n",
        "print(now_2.second)"
      ],
      "metadata": {
        "colab": {
          "base_uri": "https://localhost:8080/"
        },
        "id": "QotqY7057NYz",
        "outputId": "33b6dda9-89f3-4587-84bd-e04dc0cd6915"
      },
      "execution_count": 2,
      "outputs": [
        {
          "output_type": "stream",
          "name": "stdout",
          "text": [
            "インスタンス1のデータ属性 secondと\n",
            "13\n",
            "インスタンス2のデータ属性 secondは別の値を返す\n",
            "14\n"
          ]
        }
      ]
    },
    {
      "cell_type": "code",
      "source": [
        "# 2-2 クラスdatetimeを直接インスタンス化するときは クラス名(引数)　の形\n",
        "past = datetime(2016,12,6)\n",
        "print(past)\n",
        "print(past.year)"
      ],
      "metadata": {
        "id": "0XOMzhENgtyB",
        "colab": {
          "base_uri": "https://localhost:8080/"
        },
        "outputId": "d8421099-3b23-48e1-a8de-c2bb600e4e3d"
      },
      "execution_count": 3,
      "outputs": [
        {
          "output_type": "stream",
          "name": "stdout",
          "text": [
            "2016-12-06 00:00:00\n",
            "2016\n"
          ]
        }
      ]
    },
    {
      "cell_type": "markdown",
      "source": [
        "# 3. 独自のクラスを設定することもできる\n",
        "\n",
        "- 参考URL: https://www.tohoho-web.com/python/class.html"
      ],
      "metadata": {
        "id": "YEakK9qS90i_"
      }
    },
    {
      "cell_type": "code",
      "source": [
        "# @title 3-1 titleを持つBookクラスの例\n",
        "class Book:\n",
        "    count = 0 #クラス変数\n",
        "\n",
        "     # コンストラクタ\n",
        "    def __init__(self):\n",
        "        self.title = \"タイトル未設定\" #インスタンス変数titleに\"タイトル未設定\"を設定\n",
        "        Book.count += 1 #インスタンス化するごとにクラス変数を1増やす\n",
        "\n",
        "\n",
        "    def setTitle(self, title):             # setTitle()メソッド、インスタンス変数titleに引数titleを設定\n",
        "        self.title = title\n",
        "\n",
        "    @classmethod #クラスメソッドの設定の宣言\n",
        "    def new_with_default(cls): #cls はBookクラスそのもの\n",
        "      book = cls() #Bookクラスをインスタンス化する\n",
        "      book.setTitle(\"デフォルトタイトル\") #Bookクラスのインスタンスbookにデフォルトタイトルを設定\n",
        "      return book"
      ],
      "metadata": {
        "id": "NoslLt9t9zxj"
      },
      "execution_count": 4,
      "outputs": []
    },
    {
      "cell_type": "code",
      "source": [
        "# @title 3-2 `__init__`メソッドはインスタンス化したときに実行される\n",
        "# Bookのインスタンスbook1を作る\n",
        "book_1 = Book()\n",
        "\n",
        "# __init__メソッドでタイトルが\"タイトル未設定\"になっている\n",
        "# インスタンス変数titleの呼び出しは　インスタンス.インスタンス変数\n",
        "print(book_1.title)\n"
      ],
      "metadata": {
        "id": "kSnRuRBeVAu2",
        "colab": {
          "base_uri": "https://localhost:8080/"
        },
        "outputId": "7cfd95ed-aeee-43aa-c767-b93412172d14"
      },
      "execution_count": 5,
      "outputs": [
        {
          "output_type": "stream",
          "name": "stdout",
          "text": [
            "タイトル未設定\n"
          ]
        }
      ]
    },
    {
      "cell_type": "code",
      "source": [
        "# @title 3-3 インスタンスメソッドはインスタンスに対して実行される\n",
        "# Bookのインスタンスbook_2も作る\n",
        "book_2 = Book()\n",
        "\n",
        "# Bookのインスタンスbook1に対してsetTitleメソッドを実行\n",
        "book_1.setTitle(\"不思議の国のアリス\")\n",
        "\n",
        "print(\"book_1タイトル:\")\n",
        "print(book_1.title)\n",
        "\n",
        "print(\"book_2タイトルは変わらない:\")\n",
        "print(book_2.title)"
      ],
      "metadata": {
        "id": "YHbGTMowZQRl",
        "colab": {
          "base_uri": "https://localhost:8080/"
        },
        "outputId": "ae0fddb4-3825-4449-8b52-a1e5c8110a7c"
      },
      "execution_count": 6,
      "outputs": [
        {
          "output_type": "stream",
          "name": "stdout",
          "text": [
            "book_1タイトル:\n",
            "不思議の国のアリス\n",
            "book_2タイトルは変わらない:\n",
            "タイトル未設定\n"
          ]
        }
      ]
    },
    {
      "cell_type": "code",
      "source": [
        "# @title 3-4 クラスメソッドはクラスに対して実行する\n",
        "# Bookのインスタンスbook_3を、new_with_defaultクラスメソッドで作る\n",
        "book_3 = Book.new_with_default()\n",
        "\n",
        "# new_with_defaultでtitleが[デフォルトタイトル]に設定されている\n",
        "print(book_3.title)"
      ],
      "metadata": {
        "id": "AnyNiaNFab6f",
        "colab": {
          "base_uri": "https://localhost:8080/"
        },
        "outputId": "11ff664e-ea81-49a7-b308-d7ddd106b503"
      },
      "execution_count": 7,
      "outputs": [
        {
          "output_type": "stream",
          "name": "stdout",
          "text": [
            "デフォルトタイトル\n"
          ]
        }
      ]
    },
    {
      "cell_type": "code",
      "source": [
        "# 3-5 @title クラス変数は クラス名.クラス変数　で呼び出す\n",
        "\n",
        "print(Book.count)"
      ],
      "metadata": {
        "id": "i1ABMT6TkzPu",
        "colab": {
          "base_uri": "https://localhost:8080/"
        },
        "outputId": "be064bd2-6b1b-43f8-ea94-1fdbd98c456f"
      },
      "execution_count": 8,
      "outputs": [
        {
          "output_type": "stream",
          "name": "stdout",
          "text": [
            "3\n"
          ]
        }
      ]
    }
  ]
}