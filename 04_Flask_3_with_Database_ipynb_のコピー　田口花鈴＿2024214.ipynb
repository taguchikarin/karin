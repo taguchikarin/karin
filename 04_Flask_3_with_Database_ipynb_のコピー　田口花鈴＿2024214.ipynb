{
  "cells": [
    {
      "cell_type": "markdown",
      "metadata": {
        "id": "view-in-github",
        "colab_type": "text"
      },
      "source": [
        "<a href=\"https://colab.research.google.com/github/taguchikarin/karin/blob/main/04_Flask_3_with_Database_ipynb_%E3%81%AE%E3%82%B3%E3%83%94%E3%83%BC%E3%80%80%E7%94%B0%E5%8F%A3%E8%8A%B1%E9%88%B4%EF%BC%BF2024214.ipynb\" target=\"_parent\"><img src=\"https://colab.research.google.com/assets/colab-badge.svg\" alt=\"Open In Colab\"/></a>"
      ]
    },
    {
      "cell_type": "code",
      "execution_count": 1,
      "metadata": {
        "colab": {
          "base_uri": "https://localhost:8080/"
        },
        "id": "mJxNWy4zN7wm",
        "outputId": "0caab57f-7ad9-432d-ba92-52f42dce31df"
      },
      "outputs": [
        {
          "output_type": "stream",
          "name": "stdout",
          "text": [
            "Requirement already satisfied: flask in /usr/local/lib/python3.10/dist-packages (2.2.5)\n",
            "Collecting pyngrok\n",
            "  Downloading pyngrok-7.2.0-py3-none-any.whl.metadata (7.4 kB)\n",
            "Requirement already satisfied: Werkzeug>=2.2.2 in /usr/local/lib/python3.10/dist-packages (from flask) (3.0.4)\n",
            "Requirement already satisfied: Jinja2>=3.0 in /usr/local/lib/python3.10/dist-packages (from flask) (3.1.4)\n",
            "Requirement already satisfied: itsdangerous>=2.0 in /usr/local/lib/python3.10/dist-packages (from flask) (2.2.0)\n",
            "Requirement already satisfied: click>=8.0 in /usr/local/lib/python3.10/dist-packages (from flask) (8.1.7)\n",
            "Requirement already satisfied: PyYAML>=5.1 in /usr/local/lib/python3.10/dist-packages (from pyngrok) (6.0.2)\n",
            "Requirement already satisfied: MarkupSafe>=2.0 in /usr/local/lib/python3.10/dist-packages (from Jinja2>=3.0->flask) (3.0.2)\n",
            "Downloading pyngrok-7.2.0-py3-none-any.whl (22 kB)\n",
            "Installing collected packages: pyngrok\n",
            "Successfully installed pyngrok-7.2.0\n",
            "Mounted at /content/drive\n"
          ]
        }
      ],
      "source": [
        "#@title #1.　ngrokのauth_tokeを設定して前回の内容を実行[事前準備、設定]\n",
        "# 1,2 Flask, pyngrokのインストール\n",
        "!pip install flask pyngrok\n",
        "#  必要なモジュールのimport\n",
        "import os\n",
        "# flaskからFlaskクラスをインポート\n",
        "from flask import Flask\n",
        "# pyngrokからngrokモジュールとconfモジュールをインポート\n",
        "from pyngrok import ngrok, conf\n",
        "# 設定\n",
        "# ngrokトークンを設定\n",
        "conf.get_default().auth_token = \"2lrg1zBeYpmCIJwAxh39EDzZeQr_7Uneh1c3xXBKbJfURSxq5\" #ここに自分のNgrokトークンを入れてください！！！！！\n",
        "\n",
        "#\n",
        "# Googleドライブのマウント\n",
        "from google.colab import drive\n",
        "drive.mount('/content/drive')\n"
      ]
    },
    {
      "cell_type": "code",
      "source": [],
      "metadata": {
        "id": "f2fw1RAdWmhv"
      },
      "execution_count": null,
      "outputs": []
    },
    {
      "cell_type": "code",
      "source": [
        "# @title 1-2 SQLAlchemyのインストール\n",
        "!pip install Flask-SQLAlchemy"
      ],
      "metadata": {
        "colab": {
          "base_uri": "https://localhost:8080/"
        },
        "id": "byVE6ekRn7cQ",
        "outputId": "d1644ee5-d417-433b-cfa7-e7184722f421"
      },
      "execution_count": 2,
      "outputs": [
        {
          "output_type": "stream",
          "name": "stdout",
          "text": [
            "Collecting Flask-SQLAlchemy\n",
            "  Downloading flask_sqlalchemy-3.1.1-py3-none-any.whl.metadata (3.4 kB)\n",
            "Requirement already satisfied: flask>=2.2.5 in /usr/local/lib/python3.10/dist-packages (from Flask-SQLAlchemy) (2.2.5)\n",
            "Requirement already satisfied: sqlalchemy>=2.0.16 in /usr/local/lib/python3.10/dist-packages (from Flask-SQLAlchemy) (2.0.36)\n",
            "Requirement already satisfied: Werkzeug>=2.2.2 in /usr/local/lib/python3.10/dist-packages (from flask>=2.2.5->Flask-SQLAlchemy) (3.0.4)\n",
            "Requirement already satisfied: Jinja2>=3.0 in /usr/local/lib/python3.10/dist-packages (from flask>=2.2.5->Flask-SQLAlchemy) (3.1.4)\n",
            "Requirement already satisfied: itsdangerous>=2.0 in /usr/local/lib/python3.10/dist-packages (from flask>=2.2.5->Flask-SQLAlchemy) (2.2.0)\n",
            "Requirement already satisfied: click>=8.0 in /usr/local/lib/python3.10/dist-packages (from flask>=2.2.5->Flask-SQLAlchemy) (8.1.7)\n",
            "Requirement already satisfied: typing-extensions>=4.6.0 in /usr/local/lib/python3.10/dist-packages (from sqlalchemy>=2.0.16->Flask-SQLAlchemy) (4.12.2)\n",
            "Requirement already satisfied: greenlet!=0.4.17 in /usr/local/lib/python3.10/dist-packages (from sqlalchemy>=2.0.16->Flask-SQLAlchemy) (3.1.1)\n",
            "Requirement already satisfied: MarkupSafe>=2.0 in /usr/local/lib/python3.10/dist-packages (from Jinja2>=3.0->flask>=2.2.5->Flask-SQLAlchemy) (3.0.2)\n",
            "Downloading flask_sqlalchemy-3.1.1-py3-none-any.whl (25 kB)\n",
            "Installing collected packages: Flask-SQLAlchemy\n",
            "Successfully installed Flask-SQLAlchemy-3.1.1\n"
          ]
        }
      ]
    },
    {
      "cell_type": "code",
      "execution_count": 3,
      "metadata": {
        "id": "g0YSjgInyjaR"
      },
      "outputs": [],
      "source": [
        "#@title #2.データベースとデータの中身を用意する\n",
        "import sqlite3\n",
        "\n",
        "# データベースのテーブル（データを入れるための形のある箱）を用意する\n",
        "conn = sqlite3.connect('sample_db.sqlite')\n",
        "cursor = conn.cursor()\n",
        "cursor.execute('''\n",
        "CREATE TABLE books (\n",
        "    id INTEGER PRIMARY KEY,\n",
        "    title TEXT NOT NULL,\n",
        "    author TEXT NOT NULL,\n",
        "    year_published INTEGER\n",
        ")\n",
        "''')\n",
        "\n",
        "conn.commit()\n",
        "conn.close()"
      ]
    },
    {
      "cell_type": "markdown",
      "metadata": {
        "id": "IIofha0tpJSh"
      },
      "source": [
        "# 3. HTMLを更新する(drive/My Drive/flask_blog/templates/home.htmlを更新）\n",
        "\n",
        "```\n",
        "<!DOCTYPE html>\n",
        "<html>\n",
        "  <link rel=\"stylesheet\" href=\"{{ url_for('static', filename='css/style.css')}}\">\n",
        "<head>\n",
        "</head>\n",
        "<body>\n",
        "    <header>\n",
        "      <h1>ミニブログをつくってみよう !</h1>\n",
        "    </header>\n",
        "    <ul>\n",
        "       {% for book in books %} <!-- ループさせてそれぞれ要素を取り出す -->\n",
        "      <li>{{ book[1] }}</li>\n",
        "       {% endfor %}\n",
        "</ul>\n",
        "</body>\n",
        "</html>\n",
        "```\n"
      ]
    },
    {
      "cell_type": "code",
      "execution_count": 10,
      "metadata": {
        "id": "OGdb0W_1wfWl"
      },
      "outputs": [],
      "source": [
        "#@title　#4.アプリケーションを初期化する\n",
        "\n",
        "from flask import g, render_template\n",
        "\n",
        "\n",
        "# テンプレートと静的ファイルの置き場所を定数に代入\n",
        "TEMPLATE_PATH = 'drive/My Drive/flask_blog/template'\n",
        "STATIC_PATH = 'drive/My Drive/flask_blog/static'\n",
        "# Flaskのインスタンスを作るときにそれを利用してファイルパスを設定する\n",
        "app = Flask(__name__, template_folder=TEMPLATE_PATH, static_folder=STATIC_PATH)\n",
        "\n",
        "\n",
        "\n"
      ]
    },
    {
      "cell_type": "code",
      "execution_count": 11,
      "metadata": {
        "id": "kB10_AS9vEKJ"
      },
      "outputs": [],
      "source": [
        "#@title　#5.アプリケーションとデータベースを繋ぐための関数を用意する\n",
        "\n",
        "DATABASE = 'sample_db.sqlite'\n",
        "\n",
        "def get_db():\n",
        "    db = getattr(g, '_database', None)\n",
        "    if db is None:\n",
        "        db = g._database = sqlite3.connect(DATABASE)\n",
        "    return db\n",
        "\n",
        "@app.teardown_appcontext\n",
        "def close_connection(exception):\n",
        "    db = getattr(g, '_database', None)\n",
        "    if db is not None:\n",
        "        db.close()\n",
        "\n",
        "def query_db(query, args=(), one=False):\n",
        "    cur = get_db().execute(query, args)\n",
        "    rv = cur.fetchall()\n",
        "    cur.close()\n",
        "    return (rv[0] if rv else None) if one else rv\n",
        "\n",
        "def insert_or_delete_db(query, args=()):\n",
        "    get_db().execute(query, args)\n",
        "    get_db().commit()\n",
        "\n"
      ]
    },
    {
      "cell_type": "code",
      "execution_count": 12,
      "metadata": {
        "id": "7WPiBqF8MwVs"
      },
      "outputs": [],
      "source": [
        "#@title #6.データベースにデータを登録する\n",
        "\n",
        "# アプリケーションが実行されるコンテキスト内で行うという指定のwith\n",
        "with app.app_context():\n",
        "  # データが何度も登録されないように一度データベースの中身を削除するSQL文を構成\n",
        "  delete_sql  =\"\"\"\n",
        "   DELETE FROM books\n",
        "  \"\"\"\n",
        "  # SQL文を実行してデータを削除\n",
        "  insert_or_delete_db(delete_sql)\n",
        "  # データをデータベースに登録するSQL文を構成\n",
        "  insert_sql =\"\"\"\n",
        "    INSERT INTO books (id,title, author, year_published)\n",
        "    VALUES (1,'わたし×IT＝最強説', 'NPO法人Waffle', 2023),\n",
        "     (2,'ユウと魔法のプログラミング・ノート', '鳥井雪', 2023),\n",
        "     (3, 'ハッカーと画家', 'Paul Graham, 川合 史朗', 2005)\n",
        "    \"\"\"\n",
        "  # SQL文を実行してデータを登録\n",
        "  insert_or_delete_db(insert_sql)"
      ]
    },
    {
      "cell_type": "code",
      "execution_count": 14,
      "metadata": {
        "id": "PhXVJlAnu2Wj"
      },
      "outputs": [],
      "source": [
        "#@title #7.アプリケーションでデータを読み出す+テンプレートにデータを渡すプログラミング\n",
        "\n",
        "# /（ルート）にアクセスしたら次に書く関数(hello_world)を実行するという宣言\n",
        "@app.route(\"/\")\n",
        "def home():\n",
        "    #データベースからデータを引き出す（リストのリストの形で帰ってくる）\n",
        "    books = query_db(\"SELECT * FROM books\")\n",
        "\n",
        "    # テンプレートにbooks変数を読み出す\n",
        "    return render_template('home.html', books = books)"
      ]
    },
    {
      "cell_type": "code",
      "execution_count": null,
      "metadata": {
        "colab": {
          "base_uri": "https://localhost:8080/"
        },
        "id": "S4IhqcmUy8X5",
        "outputId": "a740d0bc-95af-415d-f0b7-89f517f99a1b"
      },
      "outputs": [
        {
          "output_type": "stream",
          "name": "stdout",
          "text": [
            "ngrok URL: NgrokTunnel: \"https://a78d-34-82-12-96.ngrok-free.app\" -> \"http://localhost:5000\"\n",
            " * Serving Flask app '__main__'\n",
            " * Debug mode: off\n"
          ]
        },
        {
          "output_type": "stream",
          "name": "stderr",
          "text": [
            "INFO:werkzeug:\u001b[31m\u001b[1mWARNING: This is a development server. Do not use it in a production deployment. Use a production WSGI server instead.\u001b[0m\n",
            " * Running on http://127.0.0.1:5000\n",
            "INFO:werkzeug:\u001b[33mPress CTRL+C to quit\u001b[0m\n",
            "INFO:werkzeug:127.0.0.1 - - [28/Oct/2024 13:55:01] \"GET / HTTP/1.1\" 200 -\n",
            "INFO:werkzeug:127.0.0.1 - - [28/Oct/2024 13:55:02] \"\u001b[33mGET /static/css/style.css HTTP/1.1\u001b[0m\" 404 -\n",
            "INFO:werkzeug:127.0.0.1 - - [28/Oct/2024 13:55:02] \"\u001b[33mGET /favicon.ico HTTP/1.1\u001b[0m\" 404 -\n"
          ]
        }
      ],
      "source": [
        "#@title #8.アプリケーションを立ち上げる\n",
        "\n",
        "if __name__ == \"__main__\":\n",
        "    public_url = ngrok.connect(5000)\n",
        "    print(f\"ngrok URL: {public_url}\")\n",
        "    app.run(port=5000)"
      ]
    }
  ],
  "metadata": {
    "colab": {
      "provenance": [],
      "include_colab_link": true
    },
    "kernelspec": {
      "display_name": "Python 3",
      "name": "python3"
    },
    "language_info": {
      "name": "python"
    }
  },
  "nbformat": 4,
  "nbformat_minor": 0
}