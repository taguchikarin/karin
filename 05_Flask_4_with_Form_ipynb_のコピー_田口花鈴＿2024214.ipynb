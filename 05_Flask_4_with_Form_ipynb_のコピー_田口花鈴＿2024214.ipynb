{
  "cells": [
    {
      "cell_type": "markdown",
      "metadata": {
        "id": "view-in-github",
        "colab_type": "text"
      },
      "source": [
        "<a href=\"https://colab.research.google.com/github/taguchikarin/karin/blob/main/05_Flask_4_with_Form_ipynb_%E3%81%AE%E3%82%B3%E3%83%94%E3%83%BC_%E7%94%B0%E5%8F%A3%E8%8A%B1%E9%88%B4%EF%BC%BF2024214.ipynb\" target=\"_parent\"><img src=\"https://colab.research.google.com/assets/colab-badge.svg\" alt=\"Open In Colab\"/></a>"
      ]
    },
    {
      "cell_type": "markdown",
      "source": [],
      "metadata": {
        "id": "3_uWVRpy8jK-"
      }
    },
    {
      "cell_type": "code",
      "execution_count": null,
      "metadata": {
        "id": "mJxNWy4zN7wm",
        "colab": {
          "base_uri": "https://localhost:8080/"
        },
        "outputId": "8589355c-f681-4a10-ee14-63a7eae016de"
      },
      "outputs": [
        {
          "output_type": "stream",
          "name": "stdout",
          "text": [
            "Requirement already satisfied: flask in /usr/local/lib/python3.10/dist-packages (2.2.5)\n",
            "Requirement already satisfied: pyngrok in /usr/local/lib/python3.10/dist-packages (7.2.0)\n",
            "Requirement already satisfied: Werkzeug>=2.2.2 in /usr/local/lib/python3.10/dist-packages (from flask) (3.0.4)\n",
            "Requirement already satisfied: Jinja2>=3.0 in /usr/local/lib/python3.10/dist-packages (from flask) (3.1.4)\n",
            "Requirement already satisfied: itsdangerous>=2.0 in /usr/local/lib/python3.10/dist-packages (from flask) (2.2.0)\n",
            "Requirement already satisfied: click>=8.0 in /usr/local/lib/python3.10/dist-packages (from flask) (8.1.7)\n",
            "Requirement already satisfied: PyYAML>=5.1 in /usr/local/lib/python3.10/dist-packages (from pyngrok) (6.0.2)\n",
            "Requirement already satisfied: MarkupSafe>=2.0 in /usr/local/lib/python3.10/dist-packages (from Jinja2>=3.0->flask) (3.0.2)\n",
            "Mounted at /content/drive\n"
          ]
        }
      ],
      "source": [
        "#@title #1.　ngrokのauth_tokeを設定して前回の内容を実行[事前準備、設定]\n",
        "# 1,2 Flask, pyngrokのインストール\n",
        "!pip install flask pyngrok\n",
        "#  必要なモジュールのimport\n",
        "import os\n",
        "# flaskからFlaskクラスをインポート\n",
        "from flask import Flask\n",
        "# pyngrokからngrokモジュールとconfモジュールをインポート\n",
        "from pyngrok import ngrok, conf\n",
        "# 設定\n",
        "# ngrokトークンを設定\n",
        "conf.get_default().auth_token = \"2lrg1zBeYpmCIJwAxh39EDzZeQr_7Uneh1c3xXBKbJfURSxq5\" #ここに自分のNgrokトークンを入れてください！！！！！\n",
        "\n",
        "# Googleドライブのマウント\n",
        "from google.colab import drive\n",
        "drive.mount('/content/drive')\n"
      ]
    },
    {
      "cell_type": "code",
      "execution_count": null,
      "metadata": {
        "id": "g0YSjgInyjaR"
      },
      "outputs": [],
      "source": [
        "#@title #2.データベースとデータの中身を用意する\n",
        "import sqlite3\n",
        "\n",
        "\n",
        "# データベースのテーブル（データを入れるための形のある箱）を用意する\n",
        "conn = sqlite3.connect('sample_db.sqlite')\n",
        "cursor = conn.cursor()\n",
        "cursor.execute('''\n",
        "CREATE TABLE blogs (\n",
        "    id INTEGER PRIMARY KEY,\n",
        "    title TEXT NOT NULL,\n",
        "    body TEXT NOT NULL,\n",
        "    user_name TEXT NOT NULL,\n",
        "    created_at TEXT NOT NULL DEFAULT (CURRENT_TIMESTAMP)\n",
        ")\n",
        "''')\n",
        "\n",
        "conn.commit()\n",
        "conn.close()\n",
        "\n"
      ]
    },
    {
      "cell_type": "code",
      "source": [
        "from google.colab import drive\n",
        "drive.mount('/content/drive')"
      ],
      "metadata": {
        "colab": {
          "base_uri": "https://localhost:8080/"
        },
        "id": "8ft2WcxBeVAM",
        "outputId": "53f1d3d8-0996-4aaa-b070-5946cd9cfcd6"
      },
      "execution_count": null,
      "outputs": [
        {
          "output_type": "stream",
          "name": "stdout",
          "text": [
            "Drive already mounted at /content/drive; to attempt to forcibly remount, call drive.mount(\"/content/drive\", force_remount=True).\n"
          ]
        }
      ]
    },
    {
      "cell_type": "markdown",
      "source": [
        "# 3. テンプレートの更新"
      ],
      "metadata": {
        "id": "26OQWbUN1E0V"
      }
    },
    {
      "cell_type": "markdown",
      "metadata": {
        "id": "IIofha0tpJSh"
      },
      "source": [
        "# 3-1. drive/My Drive/flask_blog/templates/home.htmlを更新\n",
        "\n",
        "```\n",
        "<!DOCTYPE html>\n",
        "<html>\n",
        "  <link rel=\"stylesheet\" href=\"{{ url_for('static', filename='css/style.css')}}\">\n",
        "<head>\n",
        "</head>\n",
        "<body>\n",
        "    <header>\n",
        "      <h1>ミニブログをつくってみよう !</h1>\n",
        "    </header>\n",
        "    <a href=\"{{ url_for('blog_index')}}\">ブログ</a>\n",
        "</body>\n",
        "</html>\n",
        "```\n"
      ]
    },
    {
      "cell_type": "markdown",
      "source": [
        "# 3-2. drive/My Drive/flask_blog/templates/blogs.htmlを作成\n",
        "\n",
        "新しくファイルを作ります\n",
        "\n",
        "```\n",
        "\n",
        "\n",
        "<!DOCTYPE html>\n",
        "<html>\n",
        "  <link rel=\"stylesheet\" href=\"{{ url_for('static', filename='css/style.css')}}\">\n",
        "<head>\n",
        "</head>\n",
        "<body>\n",
        "    <header>\n",
        "      <h1>ミニブログを作ってみよう</h1>\n",
        "    </header>\n",
        "    <div>\n",
        "    {% with messages = get_flashed_messages() %}\n",
        "      {% if messages %}\n",
        "      <ul class=flashes>\n",
        "      {% for message in messages %}\n",
        "        <li>{{ message }}</li>\n",
        "      {% endfor %}\n",
        "       </ul>\n",
        "       {% endif %}\n",
        "     {% endwith %}\n",
        "    </div>\n",
        "    <div>\n",
        "    <form\n",
        "    action=\"{{url_for('blog_create')}}\"\n",
        "    method=\"POST\"\n",
        "    novalidate=\"novalidate\"\n",
        "  >\n",
        "    <p>\n",
        "      <label for=\"title\">タイトル：</label><input type=\"text\" name=\"title\" />\n",
        "    </p>\n",
        "    <p>\n",
        "      <label for=\"user_name\">投稿者名：</label><input type=\"text\" name=\"user_name\" />\n",
        "    </p>\n",
        "    <p>\n",
        "      <label for=\"body\">内容：</label><textarea name=\"body\" cols=\"40\" rows=\"10\"></textarea>\n",
        "    </p>\n",
        "    <p><button type=\"submit\">送る</button></p>\n",
        "  </form>\n",
        "\n",
        "  </div>\n",
        "\n",
        "  <div>\n",
        "    <ul>\n",
        "      {% for blog in blogs %} <!-- ループさせてそれぞれ要素を取り出す -->\n",
        "      <li>{{ blog }}</li>\n",
        "       {% endfor %}\n",
        "    </ul>\n",
        "  </div>\n",
        "</body>\n",
        "</html>\n",
        "```\n",
        "\n",
        "\n",
        "\n"
      ],
      "metadata": {
        "id": "kMhbf8BgaERp"
      }
    },
    {
      "cell_type": "markdown",
      "source": [
        "上の作業でフォルダ構成がこうなっていることを確認してください![スクリーンショット 2024-09-26 5.17.55.png](data:image/png;base64,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)"
      ],
      "metadata": {
        "id": "EroYozlQ1h4f"
      }
    },
    {
      "cell_type": "code",
      "execution_count": null,
      "metadata": {
        "id": "OGdb0W_1wfWl"
      },
      "outputs": [],
      "source": [
        "#@title　#4.アプリケーションを初期化する/5.アプリケーションとデータベースを繋ぐための関数を用意する(前回と変わりなし)\n",
        "\n",
        "from flask import g, render_template, redirect, url_for\n",
        "\n",
        "\n",
        "# テンプレートと静的ファイルの置き場所を定数に代入\n",
        "TEMPLATE_PATH = 'drive/My Drive/flask_blog/templates'\n",
        "STATIC_PATH = 'drive/My Drive/flask_blog/static'\n",
        "# Flaskのインスタンスを作るときにそれを利用してファイルパスを設定する\n",
        "app = Flask(__name__, template_folder=TEMPLATE_PATH, static_folder=STATIC_PATH)\n",
        "\n",
        "\n",
        "#@title　#5.アプリケーションとデータベースを繋ぐための関数を用意する\n",
        "\n",
        "DATABASE = 'sample_db.sqlite'\n",
        "\n",
        "def get_db():\n",
        "    db = getattr(g, '_database', None)\n",
        "    if db is None:\n",
        "        db = g._database = sqlite3.connect(DATABASE)\n",
        "    return db\n",
        "\n",
        "@app.teardown_appcontext\n",
        "def close_connection(exception):\n",
        "    db = getattr(g, '_database', None)\n",
        "    if db is not None:\n",
        "        db.close()\n",
        "\n",
        "def query_db(query, args=(), one=False):\n",
        "    cur = get_db().execute(query, args)\n",
        "    rv = cur.fetchall()\n",
        "    cur.close()\n",
        "    return (rv[0] if rv else None) if one else rv\n",
        "\n",
        "def insert_or_delete_db(query, args=()):\n",
        "    get_db().execute(query, args)\n",
        "    get_db().commit()\n"
      ]
    },
    {
      "cell_type": "code",
      "execution_count": null,
      "metadata": {
        "id": "PhXVJlAnu2Wj"
      },
      "outputs": [],
      "source": [
        "#@title #6.アプリケーションでデータを読み出す+テンプレートにデータを渡すプログラミング\n",
        "from datetime import datetime, timedelta\n",
        "from zoneinfo import ZoneInfo\n",
        "from flask import g, render_template, redirect, url_for, request, flash, session\n",
        "\n",
        "#セッションを設定する\n",
        "app.secret_key = 'timestamp'\n",
        "app.permanent_session_lifetime = timedelta(days=5)\n",
        "# /（ルート）にアクセスしたら次に書く関数(home)を実行するという宣言\n",
        "@app.route(\"/\")\n",
        "def home():\n",
        "    return render_template('home.html')\n",
        "\n",
        "# /blogs にHTTPメソッドがGETでアクセスしたblog_index関数を実行する\n",
        "@app.get(\"/blogs\")\n",
        "def blog_index():\n",
        "   #データベースからデータを引き出す（配列の配列の形で帰ってくる）\n",
        "\n",
        "    blogs = query_db(\"SELECT * FROM blogs\")\n",
        "\n",
        "    # テンプレートにblogs変数を渡す\n",
        "    return render_template('blogs.html', blogs = blogs)\n",
        "\n",
        "# /blogs にHTTPメソッドがPOSTでアクセスしたblog_create関数を実行する\n",
        "@app.post(\"/blogs\")\n",
        "def blog_create():\n",
        "\n",
        "    # フォームの値を取得してバリデーションを行う\n",
        "    title = request.form[\"title\"]\n",
        "    user_name = request.form[\"user_name\"]\n",
        "    body = request.form[\"body\"]\n",
        "\n",
        "    is_valid = True\n",
        "    if not title:\n",
        "        flash(\"タイトルを入力してください。\")\n",
        "        is_valid = False\n",
        "\n",
        "    if not user_name:\n",
        "        flash(\"投稿者名を入力してください。\")\n",
        "        is_valid = False\n",
        "\n",
        "    if not body:\n",
        "        flash(\"本文を入力してください。\")\n",
        "        is_valid = False\n",
        "\n",
        "    if not is_valid:\n",
        "        return redirect(url_for(\"blog_index\"))\n",
        "\n",
        "    # データベースに挿入するためのSQLを組み立てる\n",
        "    insert_sql =f\"\"\"\n",
        "    INSERT INTO blogs (title, user_name, body)\n",
        "    VALUES (?, ?, ?)\n",
        "    \"\"\"\n",
        "    # SQL文を実行してデータを登録\n",
        "    insert_or_delete_db(insert_sql, (title, user_name, body))\n",
        "\n",
        "\n",
        "    # ルートにGETでリダイレクトする\n",
        "    return redirect(url_for(\"blog_index\"))\n"
      ]
    },
    {
      "cell_type": "code",
      "execution_count": 12,
      "metadata": {
        "id": "S4IhqcmUy8X5",
        "colab": {
          "base_uri": "https://localhost:8080/",
          "height": 515
        },
        "outputId": "02c873e1-c4a3-416c-ffa4-745fd9802284"
      },
      "outputs": [
        {
          "output_type": "stream",
          "name": "stderr",
          "text": [
            "ERROR:pyngrok.process.ngrok:t=2024-10-28T15:13:13+0000 lvl=eror msg=\"failed to reconnect session\" obj=tunnels.session err=\"authentication failed: Your account is limited to 1 simultaneous ngrok agent sessions.\\nYou can run multiple simultaneous tunnels from a single agent session by defining the tunnels in your agent configuration file and starting them with the command `ngrok start --all`.\\nRead more about the agent configuration file: https://ngrok.com/docs/secure-tunnels/ngrok-agent/reference/config\\nYou can view your current agent sessions in the dashboard:\\nhttps://dashboard.ngrok.com/agents\\r\\n\\r\\nERR_NGROK_108\\r\\n\"\n",
            "ERROR:pyngrok.process.ngrok:t=2024-10-28T15:13:13+0000 lvl=eror msg=\"session closing\" obj=tunnels.session err=\"authentication failed: Your account is limited to 1 simultaneous ngrok agent sessions.\\nYou can run multiple simultaneous tunnels from a single agent session by defining the tunnels in your agent configuration file and starting them with the command `ngrok start --all`.\\nRead more about the agent configuration file: https://ngrok.com/docs/secure-tunnels/ngrok-agent/reference/config\\nYou can view your current agent sessions in the dashboard:\\nhttps://dashboard.ngrok.com/agents\\r\\n\\r\\nERR_NGROK_108\\r\\n\"\n",
            "ERROR:pyngrok.process.ngrok:t=2024-10-28T15:13:13+0000 lvl=eror msg=\"terminating with error\" obj=app err=\"authentication failed: Your account is limited to 1 simultaneous ngrok agent sessions.\\nYou can run multiple simultaneous tunnels from a single agent session by defining the tunnels in your agent configuration file and starting them with the command `ngrok start --all`.\\nRead more about the agent configuration file: https://ngrok.com/docs/secure-tunnels/ngrok-agent/reference/config\\nYou can view your current agent sessions in the dashboard:\\nhttps://dashboard.ngrok.com/agents\\r\\n\\r\\nERR_NGROK_108\\r\\n\"\n",
            "CRITICAL:pyngrok.process.ngrok:t=2024-10-28T15:13:13+0000 lvl=crit msg=\"command failed\" err=\"authentication failed: Your account is limited to 1 simultaneous ngrok agent sessions.\\nYou can run multiple simultaneous tunnels from a single agent session by defining the tunnels in your agent configuration file and starting them with the command `ngrok start --all`.\\nRead more about the agent configuration file: https://ngrok.com/docs/secure-tunnels/ngrok-agent/reference/config\\nYou can view your current agent sessions in the dashboard:\\nhttps://dashboard.ngrok.com/agents\\r\\n\\r\\nERR_NGROK_108\\r\\n\"\n"
          ]
        },
        {
          "output_type": "error",
          "ename": "PyngrokNgrokError",
          "evalue": "The ngrok process errored on start: authentication failed: Your account is limited to 1 simultaneous ngrok agent sessions.\\nYou can run multiple simultaneous tunnels from a single agent session by defining the tunnels in your agent configuration file and starting them with the command `ngrok start --all`.\\nRead more about the agent configuration file: https://ngrok.com/docs/secure-tunnels/ngrok-agent/reference/config\\nYou can view your current agent sessions in the dashboard:\\nhttps://dashboard.ngrok.com/agents\\r\\n\\r\\nERR_NGROK_108\\r\\n.",
          "traceback": [
            "\u001b[0;31m---------------------------------------------------------------------------\u001b[0m",
            "\u001b[0;31mPyngrokNgrokError\u001b[0m                         Traceback (most recent call last)",
            "\u001b[0;32m<ipython-input-12-68433503e723>\u001b[0m in \u001b[0;36m<cell line: 3>\u001b[0;34m()\u001b[0m\n\u001b[1;32m      2\u001b[0m \u001b[0;34m\u001b[0m\u001b[0m\n\u001b[1;32m      3\u001b[0m \u001b[0;32mif\u001b[0m \u001b[0m__name__\u001b[0m \u001b[0;34m==\u001b[0m \u001b[0;34m\"__main__\"\u001b[0m\u001b[0;34m:\u001b[0m\u001b[0;34m\u001b[0m\u001b[0;34m\u001b[0m\u001b[0m\n\u001b[0;32m----> 4\u001b[0;31m     \u001b[0mpublic_url\u001b[0m \u001b[0;34m=\u001b[0m \u001b[0mngrok\u001b[0m\u001b[0;34m.\u001b[0m\u001b[0mconnect\u001b[0m\u001b[0;34m(\u001b[0m\u001b[0;36m5000\u001b[0m\u001b[0;34m)\u001b[0m\u001b[0;34m\u001b[0m\u001b[0;34m\u001b[0m\u001b[0m\n\u001b[0m\u001b[1;32m      5\u001b[0m     \u001b[0mprint\u001b[0m\u001b[0;34m(\u001b[0m\u001b[0;34mf\"ngrok URL: {public_url}\"\u001b[0m\u001b[0;34m)\u001b[0m\u001b[0;34m\u001b[0m\u001b[0;34m\u001b[0m\u001b[0m\n\u001b[1;32m      6\u001b[0m     \u001b[0mapp\u001b[0m\u001b[0;34m.\u001b[0m\u001b[0mrun\u001b[0m\u001b[0;34m(\u001b[0m\u001b[0mport\u001b[0m\u001b[0;34m=\u001b[0m\u001b[0;36m5000\u001b[0m\u001b[0;34m)\u001b[0m\u001b[0;34m\u001b[0m\u001b[0;34m\u001b[0m\u001b[0m\n",
            "\u001b[0;32m/usr/local/lib/python3.10/dist-packages/pyngrok/ngrok.py\u001b[0m in \u001b[0;36mconnect\u001b[0;34m(addr, proto, name, pyngrok_config, **options)\u001b[0m\n\u001b[1;32m    314\u001b[0m             \u001b[0moptions\u001b[0m\u001b[0;34m.\u001b[0m\u001b[0mpop\u001b[0m\u001b[0;34m(\u001b[0m\u001b[0;34m\"auth\"\u001b[0m\u001b[0;34m)\u001b[0m\u001b[0;34m\u001b[0m\u001b[0;34m\u001b[0m\u001b[0m\n\u001b[1;32m    315\u001b[0m \u001b[0;34m\u001b[0m\u001b[0m\n\u001b[0;32m--> 316\u001b[0;31m     \u001b[0mapi_url\u001b[0m \u001b[0;34m=\u001b[0m \u001b[0mget_ngrok_process\u001b[0m\u001b[0;34m(\u001b[0m\u001b[0mpyngrok_config\u001b[0m\u001b[0;34m)\u001b[0m\u001b[0;34m.\u001b[0m\u001b[0mapi_url\u001b[0m\u001b[0;34m\u001b[0m\u001b[0;34m\u001b[0m\u001b[0m\n\u001b[0m\u001b[1;32m    317\u001b[0m \u001b[0;34m\u001b[0m\u001b[0m\n\u001b[1;32m    318\u001b[0m     \u001b[0mlogger\u001b[0m\u001b[0;34m.\u001b[0m\u001b[0mdebug\u001b[0m\u001b[0;34m(\u001b[0m\u001b[0;34mf\"Creating tunnel with options: {options}\"\u001b[0m\u001b[0;34m)\u001b[0m\u001b[0;34m\u001b[0m\u001b[0;34m\u001b[0m\u001b[0m\n",
            "\u001b[0;32m/usr/local/lib/python3.10/dist-packages/pyngrok/ngrok.py\u001b[0m in \u001b[0;36mget_ngrok_process\u001b[0;34m(pyngrok_config)\u001b[0m\n\u001b[1;32m    154\u001b[0m     \u001b[0minstall_ngrok\u001b[0m\u001b[0;34m(\u001b[0m\u001b[0mpyngrok_config\u001b[0m\u001b[0;34m)\u001b[0m\u001b[0;34m\u001b[0m\u001b[0;34m\u001b[0m\u001b[0m\n\u001b[1;32m    155\u001b[0m \u001b[0;34m\u001b[0m\u001b[0m\n\u001b[0;32m--> 156\u001b[0;31m     \u001b[0;32mreturn\u001b[0m \u001b[0mprocess\u001b[0m\u001b[0;34m.\u001b[0m\u001b[0mget_process\u001b[0m\u001b[0;34m(\u001b[0m\u001b[0mpyngrok_config\u001b[0m\u001b[0;34m)\u001b[0m\u001b[0;34m\u001b[0m\u001b[0;34m\u001b[0m\u001b[0m\n\u001b[0m\u001b[1;32m    157\u001b[0m \u001b[0;34m\u001b[0m\u001b[0m\n\u001b[1;32m    158\u001b[0m \u001b[0;34m\u001b[0m\u001b[0m\n",
            "\u001b[0;32m/usr/local/lib/python3.10/dist-packages/pyngrok/process.py\u001b[0m in \u001b[0;36mget_process\u001b[0;34m(pyngrok_config)\u001b[0m\n\u001b[1;32m    233\u001b[0m         \u001b[0;32mreturn\u001b[0m \u001b[0m_current_processes\u001b[0m\u001b[0;34m[\u001b[0m\u001b[0mpyngrok_config\u001b[0m\u001b[0;34m.\u001b[0m\u001b[0mngrok_path\u001b[0m\u001b[0;34m]\u001b[0m\u001b[0;34m\u001b[0m\u001b[0;34m\u001b[0m\u001b[0m\n\u001b[1;32m    234\u001b[0m \u001b[0;34m\u001b[0m\u001b[0m\n\u001b[0;32m--> 235\u001b[0;31m     \u001b[0;32mreturn\u001b[0m \u001b[0m_start_process\u001b[0m\u001b[0;34m(\u001b[0m\u001b[0mpyngrok_config\u001b[0m\u001b[0;34m)\u001b[0m\u001b[0;34m\u001b[0m\u001b[0;34m\u001b[0m\u001b[0m\n\u001b[0m\u001b[1;32m    236\u001b[0m \u001b[0;34m\u001b[0m\u001b[0m\n\u001b[1;32m    237\u001b[0m \u001b[0;34m\u001b[0m\u001b[0m\n",
            "\u001b[0;32m/usr/local/lib/python3.10/dist-packages/pyngrok/process.py\u001b[0m in \u001b[0;36m_start_process\u001b[0;34m(pyngrok_config)\u001b[0m\n\u001b[1;32m    396\u001b[0m \u001b[0;34m\u001b[0m\u001b[0m\n\u001b[1;32m    397\u001b[0m         \u001b[0;32mif\u001b[0m \u001b[0mngrok_process\u001b[0m\u001b[0;34m.\u001b[0m\u001b[0mstartup_error\u001b[0m \u001b[0;32mis\u001b[0m \u001b[0;32mnot\u001b[0m \u001b[0;32mNone\u001b[0m\u001b[0;34m:\u001b[0m\u001b[0;34m\u001b[0m\u001b[0;34m\u001b[0m\u001b[0m\n\u001b[0;32m--> 398\u001b[0;31m             raise PyngrokNgrokError(f\"The ngrok process errored on start: {ngrok_process.startup_error}.\",\n\u001b[0m\u001b[1;32m    399\u001b[0m                                     \u001b[0mngrok_process\u001b[0m\u001b[0;34m.\u001b[0m\u001b[0mlogs\u001b[0m\u001b[0;34m,\u001b[0m\u001b[0;34m\u001b[0m\u001b[0;34m\u001b[0m\u001b[0m\n\u001b[1;32m    400\u001b[0m                                     ngrok_process.startup_error)\n",
            "\u001b[0;31mPyngrokNgrokError\u001b[0m: The ngrok process errored on start: authentication failed: Your account is limited to 1 simultaneous ngrok agent sessions.\\nYou can run multiple simultaneous tunnels from a single agent session by defining the tunnels in your agent configuration file and starting them with the command `ngrok start --all`.\\nRead more about the agent configuration file: https://ngrok.com/docs/secure-tunnels/ngrok-agent/reference/config\\nYou can view your current agent sessions in the dashboard:\\nhttps://dashboard.ngrok.com/agents\\r\\n\\r\\nERR_NGROK_108\\r\\n."
          ]
        }
      ],
      "source": [
        "#@title #7.アプリケーションを立ち上げる\n",
        "\n",
        "if __name__ == \"__main__\":\n",
        "    public_url = ngrok.connect(5000)\n",
        "    print(f\"ngrok URL: {public_url}\")\n",
        "    app.run(port=5000)\n"
      ]
    }
  ],
  "metadata": {
    "colab": {
      "provenance": [],
      "include_colab_link": true
    },
    "kernelspec": {
      "display_name": "Python 3",
      "name": "python3"
    },
    "language_info": {
      "name": "python"
    }
  },
  "nbformat": 4,
  "nbformat_minor": 0
}